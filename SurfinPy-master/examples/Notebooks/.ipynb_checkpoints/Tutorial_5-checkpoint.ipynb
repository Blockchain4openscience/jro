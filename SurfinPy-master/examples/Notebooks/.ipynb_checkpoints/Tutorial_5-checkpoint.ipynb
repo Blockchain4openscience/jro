{
 "cells": [
  {
   "cell_type": "markdown",
   "metadata": {},
   "source": [
    "# Tutorial 5 - Particle Morphologies"
   ]
  },
  {
   "cell_type": "markdown",
   "metadata": {},
   "source": [
    "It is sometimes useful to use surface energies in order to generate particle morphologies. This tutorial demonstrates how to obtain surface energies for surfaces containing adsorbed species using surfinpy. With these you can then generate a wulff construction using pymatgen(1). A Wulff construction is a method to determine the equilibrium shape of a crystal. So by calculating the surface energies of multiple different surfaces, at different temperature and pressure values we can generate a particle morphology for the material, in the prescence of an adsorbing species, at a specific temperature and pressure. \n",
    "\n",
    "(1) https://www.sciencedirect.com/science/article/pii/S0927025612006295?via%3Dihub"
   ]
  },
  {
   "cell_type": "code",
   "execution_count": null,
   "metadata": {},
   "outputs": [],
   "source": [
    "import numpy as np\n",
    "from surfinpy import p_vs_t as pt\n",
    "from surfinpy import wulff  \n",
    "from surfinpy import utils as ut\n",
    "from pymatgen.core.surface import SlabGenerator, generate_all_slabs, Structure, Lattice\n",
    "from pymatgen.analysis.wulff import WulffShape"
   ]
  },
  {
   "cell_type": "markdown",
   "metadata": {},
   "source": [
    "`surfinpy` has a module called wulff that will return a surface energy at a given temperature and pressure value. These can then be used in conjunction with pymatgen for a wulff construction. So first we need to declare the data for each surface and calculate the surface energies. As an aside, it is possible to provide multiple coverages, the return will be an array of surface energies, corresponding to each surface coverage, you would then select the minimum value with \n",
    "`np.amin()`"
   ]
  },
  {
   "cell_type": "code",
   "execution_count": null,
   "metadata": {},
   "outputs": [],
   "source": [
    "adsorbant = -14.22\n",
    "thermochem = ut.read_nist('H2O.txt')"
   ]
  },
  {
   "cell_type": "code",
   "execution_count": null,
   "metadata": {},
   "outputs": [],
   "source": [
    "SE = 1.44\n",
    "stoich =      {'M': 24, 'X': 48, 'Y': 0, 'Area': 60.22, 'Energy': -575.66, 'Label': 'Stoich'}\n",
    "Adsorbant_1 = {'M': 24, 'X': 48, 'Y': 2, 'Area': 60.22, 'Energy': -609.23, 'Label': '1 Species'}\n",
    "data = [Adsorbant_1]\n",
    "Surface_100_1 = wulff.calculate_surface_energy(stoich, data, SE, adsorbant, thermochem, 298, 0)"
   ]
  },
  {
   "cell_type": "code",
   "execution_count": null,
   "metadata": {},
   "outputs": [],
   "source": [
    "SE = 1.06\n",
    "stoich =      {'M': 24, 'X': 48, 'Y': 0, 'Area': 85.12, 'Energy': -672.95, 'Label': 'Stoich'}\n",
    "Adsorbant_1 = {'M': 24, 'X': 48, 'Y': 2, 'Area': 85.12, 'Energy': -705.0, 'Label': '1 Species'}\n",
    "data = [Adsorbant_1]\n",
    "Surface_110_1 = wulff.calculate_surface_energy(stoich, data, SE, adsorbant, thermochem, 298, 0)"
   ]
  },
  {
   "cell_type": "code",
   "execution_count": null,
   "metadata": {},
   "outputs": [],
   "source": [
    "SE = 0.76\n",
    "stoich =      {'M': 24, 'X': 48, 'Y': 0, 'Area': 77.14, 'Energy': -579.61, 'Label': 'Stoich'}\n",
    "Adsorbant_1 = {'M': 24, 'X': 48, 'Y': 2, 'Area': 77.14, 'Energy': -609.24, 'Label': '1 Species'}\n",
    "data = [Adsorbant_1]\n",
    "Surface_111_1 = wulff.calculate_surface_energy(stoich, data, SE, adsorbant, thermochem, 298, 0)"
   ]
  },
  {
   "cell_type": "code",
   "execution_count": null,
   "metadata": {
    "scrolled": false
   },
   "outputs": [],
   "source": [
    "#Declare the lattic paramter\n",
    "lattice = Lattice.cubic(5.411)\n",
    "ceo = Structure(lattice,[\"Ce\", \"O\"],\n",
    "               [[0,0,0], [0.25,0.25,0.25]])\n",
    "surface_energies_ceo = {(1,1,1): np.amin(Surface_111_1), (1,1,0): np.amin(Surface_110_1), (1,0,0): np.amin(Surface_100_1)}\n",
    "\n",
    "miller_list = surface_energies_ceo.keys()\n",
    "e_surf_list = surface_energies_ceo.values()\n",
    "\n",
    "# We can now construct a Wulff shape with an accuracy up to a max Miller index of 3\n",
    "wulffshape = WulffShape(ceo.lattice, miller_list, e_surf_list)\n",
    "\n",
    "# Let's get some useful information from our wulffshape object\n",
    "print(\"shape factor: %.3f, anisotropy: \\\n",
    "%.3f, weighted surface energy: %.3f J/m^2\" %(wulffshape.shape_factor, \n",
    "                                       wulffshape.anisotropy,\n",
    "                                       wulffshape.weighted_surface_energy))\n",
    "\n",
    "\n",
    "# If we want to see what our Wulff shape looks like\n",
    "wulffshape.show(color_set=\"RdBu\", direction=(1.00, 0.25, 0.25))"
   ]
  }
 ],
 "metadata": {
  "kernelspec": {
   "display_name": "Python 3",
   "language": "python",
   "name": "python3"
  },
  "language_info": {
   "codemirror_mode": {
    "name": "ipython",
    "version": 3
   },
   "file_extension": ".py",
   "mimetype": "text/x-python",
   "name": "python",
   "nbconvert_exporter": "python",
   "pygments_lexer": "ipython3",
   "version": "3.7.0"
  }
 },
 "nbformat": 4,
 "nbformat_minor": 2
}
