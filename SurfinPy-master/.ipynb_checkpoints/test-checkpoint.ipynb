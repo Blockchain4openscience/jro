{
 "cells": [
  {
   "cell_type": "markdown",
   "metadata": {},
   "source": [
    "---\n",
    "title: 'surfinpy: A Surface Phase Diagram Generator'\n",
    "tags:\n",
    "- Chemistry\n",
    "- Physics\n",
    "- Density Functional Theory\n",
    "- Solid State Chemistry\n",
    "- Simulation\n",
    "- materials\n",
    "authors:\n",
    "- name: Adam R. Symington\n",
    "  orcid: 0000-0001-6059-497X\n",
    "  affiliation: \"1\"\n",
    "- name: Joshua Tse\n",
    "  orcid: 0000-0002-1320-557X\n",
    "  affiliation: 2\n",
    "- name: Marco Molinari\n",
    "  orcid: 0000-0001-7144-6075\n",
    "  affiliation: 2\n",
    "- name: Arnaud Marmier\n",
    "  orcid: 0000-0003-3836-0004\n",
    "  affiliation: 3\n",
    "- name: Stephen C. Parker\n",
    "  orcid: 0000-0003-3804-0975\n",
    "  affiliation: 1\n",
    "affiliations:\n",
    "- name: Department of Chemistry, University of Bath\n",
    "  index: 1\n",
    "- name: Department of Chemistry, University of Huddersfield\n",
    "  index: 2\n",
    "- name: FET - Engineering, Design and Mathematics, University of the West of England\n",
    "  index: 3\n",
    "date: 25 January 2019\n",
    "bibliography: paper.bib\n",
    "---\n",
    "\n",
    "# Summary\n",
    "\n",
    "A surface phase diagram is a graphical representation of the different physical states of a surface under different conditions.\n",
    "The surface represents the first point of contact between the material and the environment.\n",
    "Thus, understanding the state of surface is crucial for a wide range of problems in materials science concerning the relationship between\n",
    "the state of the surface and the surrounding environmental condtions.\n",
    "Examples include particle morphologies in solid state batteries [@Canepa2018];\n",
    "determining the concentration of adsorbed water at a surface depending on synthesis conditions [@Molinari2012] [@Tegner2017];\n",
    "catalytic reactions [@Reuter2003]; or determing the effect of dopants and impurities on the surface stability.  \n",
    "\n",
    "Computational modelling can be used to generate surface phase diagrams from energy minimisation data.\n",
    "One common research question is how water adsorption affects the surface and material properties.\n",
    "The conventional starting point is to perform a series of energy minimisation calculations with varying concentrations of water on several different slabs.\n",
    "From the energies, the surface free energy of each calculation (phase) as a function of temperature and pressure can be calculated using a well-established approach [@Molinari2012].\n",
    "Once the free energy is known under different constants, the phase which is most stable at a specific temperature and pressure, and thus a phase diagram, can be generated.\n",
    "\n",
    "A further degree of complexity can be introduced by considering surface defects, e.g., vacancies or interstitials, or other adsorbants, e.g., carbon dioxide.\n",
    "Using surface defects as an example, it is important to consider the relationship between the defective surface, the stoichiometric surface and the adsorbing water molecules.\n",
    "A surface phase diagram can be constructed as a function of the chemcial potential of the adsorbing species (water) and the surface defect\n",
    "(e.g., oxygen, if oxygen vacancies are being considered). This is done using the method of Marmier & Parker[-@Marmier2004].\n",
    "\n"
   ]
  },
  {
   "cell_type": "code",
   "execution_count": 3,
   "metadata": {},
   "outputs": [
    {
     "data": {
      "image/png": "[encoded data removed]",
      "text/plain": [
       "<Figure size 432x288 with 2 Axes>"
      ]
     },
     "metadata": {
      "needs_background": "light"
     },
     "output_type": "display_data"
    }
   ],
   "source": [
    "\n",
    "from surfinpy import mu_vs_mu\n",
    "\n",
    "Oxygen_exp = mu_vs_mu.temperature_correction(\"examples/Notebooks/O2.txt\", 298)\n",
    "Water_exp = mu_vs_mu.temperature_correction(\"examples/Notebooks/H2O.txt\", 298)\n",
    "\n",
    "Oxygen_corrected = (-9.08 + -0.86 + Oxygen_exp) / 2\n",
    "Water_corrected = -14.84 + 0.55 + Water_exp\n",
    "\n",
    "bulk = {'Cation' : 1, 'Anion' : 2, 'Energy' : -780.0, 'F-Units' : 4}\n",
    "\n",
    "pure =     {'Cation': 24, 'X': 48, 'Y': 0, 'Area': 60.0, 'Energy': -575.0,   'Label': 'Stoich',  'nSpecies': 1}\n",
    "H2O =      {'Cation': 24, 'X': 48, 'Y': 2, 'Area': 60.0, 'Energy': -612.0,   'Label': '1 Water', 'nSpecies': 1}\n",
    "H2O_2 =    {'Cation': 24, 'X': 48, 'Y': 4, 'Area': 60.0, 'Energy': -640.0,   'Label': '2 Water', 'nSpecies': 1}\n",
    "H2O_3 =    {'Cation': 24, 'X': 48, 'Y': 8, 'Area': 60.0, 'Energy': -676.0,   'Label': '3 Water', 'nSpecies': 1}\n",
    "Vo =       {'Cation': 24, 'X': 46, 'Y': 0, 'Area': 60.0, 'Energy': -558.0,   'Label': 'Vo', 'nSpecies': 1}\n",
    "H2O_Vo =   {'Cation': 24, 'X': 46, 'Y': 2, 'Area': 60.0, 'Energy': -594.0,  'Label': 'Vo + 1 Water', 'nSpecies': 1}\n",
    "H2O_Vo_2 = {'Cation': 24, 'X': 46, 'Y': 4, 'Area': 60.0, 'Energy': -624.0,  'Label': 'Vo + 2 Water', 'nSpecies': 1}\n",
    "H2O_Vo_3 = {'Cation': 24, 'X': 46, 'Y': 6, 'Area': 60.0, 'Energy': -640.0, 'Label': 'Vo + 3 Water', 'nSpecies': 1}\n",
    "H2O_Vo_4 = {'Cation': 24, 'X': 46, 'Y': 8, 'Area': 60.0, 'Energy': -670.0, 'Label': 'Vo + 4 Water', 'nSpecies': 1}\n",
    "\n",
    "data = [pure, H2O_2, H2O_Vo, H2O,  H2O_Vo_2, H2O_3, H2O_Vo_3,  H2O_Vo_4, Vo]\n",
    "\n",
    "deltaX = {'Range': [ -12, -6],  'Label': 'O'}\n",
    "deltaY = {'Range': [ -19, -12], 'Label': 'H_2O'}\n",
    "\n",
    "system =  mu_vs_mu.calculate(data, bulk, deltaX, deltaY, x_energy=Oxygen_corrected, y_energy=Water_corrected)\n",
    "\n",
    "system.plot_phase(temperature=298, set_style=\"fast\", colourmap=\"RdBu\")\n"
   ]
  },
  {
   "cell_type": "markdown",
   "metadata": {},
   "source": [
    "\n",
    "\n",
    "# `surfinpy`\n",
    "\n",
    "`surfinpy` is a Python module for generating surface phase diagrams from DFT data.\n",
    "It contains two core modules for generating surface phase diagrams using both the methods employed in @Molinari2012 and @Marmier2004.\n",
    "These allow fast generation of temperature vs. pressure phase diagrams and phase diagrams as a function of chemcial potential of species A and B.\n",
    "The plotting classes take the outputs of the calculation modules and generate phase diagrams using `matplotlib`.\n",
    "`surfinpy` is aimed towards theoretical solid state physicist who have a basic familiarity with Python.\n",
    "The repository contains examples of the core functionality as well as tutorials, implemented in Jupyter notebooks to explain the full theory.\n",
    "Furthermore, a detailed description of theory is also available within the documentation.\n",
    "\n",
    "# Acknowledgements\n",
    "\n",
    "ARS would like to thank Andrew R. McCluskey for his guidance through this project. This package was written during a PhD funded by AWE and EPSRC (EP/R010366/1). The input\n",
    "data for the development and testing of this project was generated using ARCHER UK National Supercomputing Service (http://www.archer.ac.uk) via our membership of\n",
    "the UK's HEC Ma-terials Chemistry Consortium funded by EPSRC (EP/L000202).\n",
    "\n",
    "# References\n"
   ]
  }
 ],
 "metadata": {
  "kernelspec": {
   "display_name": "Python 3",
   "language": "python",
   "name": "python3"
  },
  "language_info": {
   "codemirror_mode": {
    "name": "ipython",
    "version": 3
   },
   "file_extension": ".py",
   "mimetype": "text/x-python",
   "name": "python",
   "nbconvert_exporter": "python",
   "pygments_lexer": "ipython3",
   "version": "3.7.1"
  }
 },
 "nbformat": 4,
 "nbformat_minor": 2
}
