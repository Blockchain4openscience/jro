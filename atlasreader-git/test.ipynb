{
 "cells": [
  {
   "cell_type": "markdown",
   "metadata": {},
   "source": [
    "\n",
    "# Summary\n",
    "\n",
    "A major advantage of magnetic resonance imaging (MRI) over other neuroimaging\n",
    "methods is its capability to noninvasively locate a region of interest (ROI) in\n",
    "the human brain. For example, using functional MRI, we are able to pinpoint\n",
    "where in the brain a certain cognitive process shows higher activation than\n",
    "usual. But just knowing the Cartesian coordinate of such a ROI is not useful if\n",
    "we cannot assign it a neuroanatomical label. For this reason, MRI images\n",
    "are usually normalized into a common template space [@fonov2011unbiased], where\n",
    "well-established atlases can be used to associate a given coordinate with the\n",
    "label of a brain region. Most major neuroimaging software packages provide some\n",
    "functionality to locate the main peaks of an ROI but this functionality is often restricted\n",
    "to a few atlases, frequently requires manual intervention, does not give the user much\n",
    "flexibility in the output creation process, and never considers the full extent\n",
    "of the ROI.\n",
    "\n",
    "To tackle those shortcomings, we created AtlasReader, a Python interface for\n",
    "generating coordinate tables and region labels from statistical MRI images. With\n",
    "AtlasReader, users can use any of the freely and publicly available neuroimaging\n",
    "atlases, without any restriction to their preferred software package, to create\n",
    "publication-ready output figures and tables that contain relevant information\n",
    "about the peaks and clusters extent of each ROI. To our knowledge, providing\n",
    "atlas information about the full extent of a cluster, i.e. over which atlas\n",
    "regions does a ROI extent, is a new feature that is not available in any other,\n",
    "comparable neuroimaging software package.\n",
    "\n",
    "Executing AtlasReader on an MRI image will lead to the creation of the following\n",
    "four outputs:\n",
    "\n",
    "1. An **overview figure** showing the ROIs throughout the whole brain at once\n",
    "   (Figure 1).\n",
    "2. For each ROI, an **informative figure** showing the sagittal, coronal and\n",
    "   transversal plane centered on the main peak of the ROI (Figure 2).\n",
    "3. A **table** containing relevant information about the main **peaks** in each\n",
    "   ROI (Figure 3).\n",
    "4. A **table** containing relevant information about the **cluster extent** of\n",
    "   each ROI (Figure 4).\n",
    "\n",
    "Users have many parameters available to guide the creation of these outputs. For\n",
    "example, with `cluster_extent` a user can specify the minimum number of\n",
    "contiguous voxels required for a ROI to be shown in the output, `min_distance`\n",
    "can be used to extract information from multiple peaks within a\n",
    "given ROI, and `atlas` can be used to specify which atlases should be used for\n",
    "the output creation. By default, AtlasReader uses the AAL, the Desikan-Killiany,\n",
    "and the Harvard-Oxford atlases (Figure 3). In the current version, users\n",
    "also have access to the Aicha, the Destrieux, the Juelich, the Marsatlas, the\n",
    "Neuromorphometrics, and the Talairach atlas. Further details about the individual atlases,\n",
    "how to acknowledge them, and their license requirements are detailed in the\n",
    "[atlasreader/data](https://github.com/miykael/atlasreader/tree/master/atlasreader/data) directory.\n",
    "\n",
    "AtlasReader is licensed under the BSD-3 license and depends on the following\n",
    "python libraries: `matplotlib` [@matplotlib], `nibabel` [@nibabel],\n",
    "`nilearn` [@nilearn], `numpy` [@numpy], `scipy` [@scipy],\n",
    "`scikitlearn` [@scikitlearn] and `scikitimage` [@scikitimage].\n",
    "\n",
    "For a more detailed explanation about how AtlasReader works and instructions on\n",
    "how to install the software on your system, see https://github.com/miykael/atlasreader.\n",
    "\n"
   ]
  },
  {
   "cell_type": "code",
   "execution_count": null,
   "metadata": {},
   "outputs": [],
   "source": [
    "\n",
    "import os\n",
    "\n",
    "os.chdir('../')\n",
    "\n",
    "os.system(\"python setup.py install\")\n"
   ]
  },
  {
   "cell_type": "markdown",
   "metadata": {},
   "source": [
    "\n",
    "\n"
   ]
  },
  {
   "cell_type": "code",
   "execution_count": null,
   "metadata": {},
   "outputs": [],
   "source": [
    "\n",
    "from atlasreader import create_output\n",
    "file_name = 'atlasreader/data/atlases/atlas_talairach_ba.nii.gz'\n",
    "create_output(file_name, cluster_extent=5)\n"
   ]
  },
  {
   "cell_type": "markdown",
   "metadata": {},
   "source": [
    "\n",
    "\n",
    "\n",
    "\n",
    "![Overview Figure](atlasreader/data/atlases/atlas_talairach_ba.png)\n",
    "**Figure 1**: Overview figure showing the ROIs throughout the whole brain at once.\n",
    "\n",
    "![Cluster_Figure](atlasreader/data/atlases/atlas_talairach_ba_cluster01.png)![Cluster_Figure02](atlasreader/data/atlases/atlas_talairach_ba_cluster02.png)![Cluster_Figure03](atlasreader/data/atlases/atlas_talairach_ba_cluster03.png)![Cluster_Figure04](atlasreader/data/atlases/atlas_talairach_ba_cluster04.png)![Cluster_Figure05](atlasreader/data/atlases/atlas_talairach_ba_cluster05.png)![Cluster_Figure06](atlasreader/data/atlases/atlas_talairach_ba_cluster06.png)![Cluster_Figure07](atlasreader/data/atlases/atlas_talairach_ba_cluster07.png)![Cluster_Figure08](atlasreader/data/atlases/atlas_talairach_ba_cluster08.png)![Cluster_Figure09](atlasreader/data/atlases/atlas_talairach_ba_cluster09.png)![Cluster_Figure10](atlasreader/data/atlases/atlas_talairach_ba_cluster10.png)\n",
    "**Figure 2**: Eight cluster figures, each centered on the main peak of the ROI, showing the sagittal,coronal and transversal plane of the ROI.\n",
    "\n",
    "\n",
    "\n"
   ]
  },
  {
   "cell_type": "code",
   "execution_count": null,
   "metadata": {},
   "outputs": [],
   "source": [
    "\n",
    "import pandas as pd\n",
    "df1 = pd.read_csv(\"atlasreader/data/atlases/atlas_talairach_ba_peaks.csv\")\n",
    "df1\n"
   ]
  },
  {
   "cell_type": "markdown",
   "metadata": {},
   "source": [
    "\n",
    "**Figure 3**: Example of a peak table showing relevant information for the main peaks of each ROI.This table contains the cluster association and location of each peak, its signal value at this location,the cluster extent (in mm, not in number of voxels), as well as the membership of each peak, givena particular atlas.\n",
    "\n"
   ]
  },
  {
   "cell_type": "code",
   "execution_count": null,
   "metadata": {},
   "outputs": [],
   "source": [
    "\n",
    "import pandas as pd\n",
    "df1 = pd.read_csv(\"atlasreader/data/atlases/atlas_talairach_ba_clusters.csv\")\n",
    "df1\n"
   ]
  },
  {
   "cell_type": "markdown",
   "metadata": {},
   "source": [
    "\n",
    "\n",
    "**Figure 4**:Example of a cluster table showing relevant information for the cluster extent of eachROI. This table contains the cluster association and location of each peak, the mean value withinthe cluster, the cluster extent (in mm, not in number of voxels), as well as the membership of eachcluster, given a particular atlas.\n",
    "\n",
    "\n",
    "# Acknowledgement\n",
    "\n",
    "Michael Philipp Notter is grateful for the support of the Swiss National Science\n",
    "Foundation grants, awarded to M. Murray (320030-149982, 320030-169206,\n",
    "and 51NF40-158776). Kirstie Whitaker is funded through an Alan Turing Institute \n",
    "Research Fellowship under EPSRC Research grant (TU/A/000017). This project \n",
    "was started at Neurohackademy 2018 which is funded by the National Institute \n",
    "of Mental Health through a grant to Ariel Rokem and Tal Yarkoni (R25MH112480).\n",
    "\n",
    "\n",
    "# References\n"
   ]
  }
 ],
 "metadata": {},
 "nbformat": 4,
 "nbformat_minor": 2
}
