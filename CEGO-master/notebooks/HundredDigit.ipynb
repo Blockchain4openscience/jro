{
 "cells": [
  {
   "cell_type": "markdown",
   "metadata": {},
   "source": [
    "# Hundred Digit Problem\n",
    "\n",
    "From: dissertation of Townsend, Eq. 5.15, modified version of Eq. 5.14 http://pi.math.cornell.edu/~ajt/papers/thesis.pdf pp. 105\n",
    "    \n",
    "**Global Minimum**: -3.398166873463248 \n",
    "\n",
    "The function has 9,318 different local minima according to Townsend\n",
    "\n",
    "Note: In the runs below, you should be able to yield the exact global minimum, but in general, because a stochastic optimization method is being used, you will usually get close to, but not exactly to, the global minimum.  You may want to play with the control parameters of the optimization."
   ]
  },
  {
   "cell_type": "code",
   "execution_count": 1,
   "metadata": {},
   "outputs": [],
   "source": [
    "from numpy import exp, sin\n",
    "import PyCEGO"
   ]
  },
  {
   "cell_type": "code",
   "execution_count": 2,
   "metadata": {},
   "outputs": [],
   "source": [
    "def HundredDigitPlus(c):\n",
    "    x, y = c\n",
    "    if isinstance(x, PyCEGO.Numberish):\n",
    "        x = x.as_double()\n",
    "        y = y.as_double()\n",
    "    return 0.25*x**2 + exp(sin(100*x))+ sin(140*sin(x)) + 0.25*y**2 + sin(120*exp(y)) +sin(sin(160*y))-sin(20*(x+y))"
   ]
  },
  {
   "cell_type": "code",
   "execution_count": 23,
   "metadata": {},
   "outputs": [
    {
     "name": "stdout",
     "output_type": "stream",
     "text": [
      "i: 0 best: -2.22316 c: -0.637227, 0.078973,  queue: 0\n",
      "i: 50 best: -3.04526 c: 0.167675, 0.853562,  queue: 0\n",
      "i: 100 best: -3.34623 c: 0.168343, 0.539182,  queue: 0\n",
      "i: 150 best: -3.34623 c: 0.168343, 0.539182,  queue: 0\n",
      "i: 200 best: -3.34623 c: 0.168343, 0.539182,  queue: 0\n",
      "i: 250 best: -3.34623 c: 0.168343, 0.539182,  queue: 0\n",
      "i: 300 best: -3.34623 c: 0.168343, 0.539182,  queue: 0\n",
      "i: 350 best: -3.36946 c: 0.169955, -0.401414,  queue: 0\n",
      "i: 400 best: -3.39264 c: 0.170340, -0.403245,  queue: 0\n",
      "i: 450 best: -3.39816 c: 0.169688, -0.403071,  queue: 0\n",
      "i: 500 best: -3.39817 c: 0.169675, -0.403046,  queue: 0\n",
      "i: 550 best: -3.39817 c: 0.169674, -0.403046,  queue: 0\n",
      "i: 600 best: -3.39817 c: 0.169674, -0.403046,  queue: 0\n",
      "i: 650 best: -3.39817 c: 0.169674, -0.403046,  queue: 0\n",
      "i: 700 best: -3.39817 c: 0.169674, -0.403046,  queue: 0\n",
      "i: 750 best: -3.39817 c: 0.169674, -0.403046,  queue: 0\n",
      "i: 800 best: -3.39817 c: 0.169674, -0.403046,  queue: 0\n",
      "i: 850 best: -3.39817 c: 0.169674, -0.403046,  queue: 0\n",
      "i: 900 best: -3.39817 c: 0.169674, -0.403046,  queue: 0\n",
      "i: 950 best: -3.39817 c: 0.169674, -0.403046,  queue: 0\n",
      "final -3.398166873463249\n",
      "deviation to global minimum -8.881784197001252e-16\n"
     ]
    }
   ],
   "source": [
    "D = 2\n",
    "Nlayers = 3\n",
    "layers = PyCEGO.NumberishLayers(HundredDigitPlus, D, D*30, Nlayers, 3)\n",
    "layers.set_bounds([PyCEGO.Bound(-1.0, 1.0) for _ in range(D)])\n",
    "layers.set_builtin_evolver(PyCEGO.BuiltinEvolvers.differential_evolution)\n",
    "\n",
    "VTR = -4 # Value to reach as acceptable optimization run\n",
    "for counter in range(1000):\n",
    "    layers.do_generation()\n",
    "    cost, coeffs = layers.get_best()\n",
    "    if counter % 50 == 0:\n",
    "        print(layers.print_diagnostics())\n",
    "    if cost < VTR:\n",
    "        break\n",
    "\n",
    "print('final', cost)\n",
    "print('deviation to global minimum', cost-(-3.398166873463248))"
   ]
  }
 ],
 "metadata": {
  "kernelspec": {
   "display_name": "Python 3",
   "language": "python",
   "name": "python3"
  },
  "language_info": {
   "codemirror_mode": {
    "name": "ipython",
    "version": 3
   },
   "file_extension": ".py",
   "mimetype": "text/x-python",
   "name": "python",
   "nbconvert_exporter": "python",
   "pygments_lexer": "ipython3",
   "version": "3.6.0"
  }
 },
 "nbformat": 4,
 "nbformat_minor": 2
}
