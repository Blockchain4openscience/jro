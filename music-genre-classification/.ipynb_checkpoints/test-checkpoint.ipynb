{
 "cells": [
  {
   "cell_type": "code",
   "execution_count": null,
   "metadata": {},
   "outputs": [],
   "source": [
    "# pubnbtest-music\n",
    "\n",
    "# Abstract\n",
    "\n",
    "Categorizing music files according to their genre is a challenging task in the area of music information retrieval (MIR). In this study, we compare the performance of two classes of models. The first is a deep learning approach wherein a CNN model is trained end-to-end, to predict the genre label of an audio signal, solely using its spectrogram. The second approach utilizes hand-crafted features, both from the time domain and frequency domain. We train four traditional machine learning classifiers with these features and compare their performance. The features that contribute the most towards this classification task are identified. The experiments are conducted on the Audio set data set and we report an AUC value of 0.894 for an ensemble classifier which combines the two proposed approaches.\n",
    "\n",
    "# 1 Introduction\n",
    "\n",
    "With the growth of online music databases and easy access to music content, people find it increasing hard to manage the songs that they listen to. One way to categorize and organize songs is based on the genre, which is identified by\n",
    "some characteristics of the music such as rhythmic structure, harmonic content and instrumentation (Tzanetakis and Cook, 2002). Being able to automatically classify and provide tags to the music present in a user’s library, based on genre,\n",
    "would be beneficial for audio streaming services such as Spotify and iTunes. This study explores the application of machine learning (ML) algorithms to identify and classify the genre of a given audio file. The first model described in this paper uses convolutional neural networks (Krizhevsky et al., 2012), which is trained end-to-end on the MEL spectrogram of the audio signal. In the second part of the study, we extract features both in the time domain and the frequency domain of the audio signal. These features are then fed to conventional machine learning models namely Logistic Regression, Random Forests (Breiman, 2001), Gradient Boosting (Friedman, 2001) and Support Vector Machines which are trained to classify the given audio file. The models are evaluated on the Audio Set dataset (Gemmeke et al., 2017). We compare the proposed models and also study the relative importance of different features. \n",
    "\n",
    "The rest of this paper is organized as follows. Section 2 describes the existing methods in the literature for the task of music genre classification. Section 3 is an overview of the the dataset used in this study and how it was obtained. The proposed models and the implementation details are discussed in Section 4. The results are reported in Section 5.2, followed by the conclusions from this study in Section 6.\n",
    "\n",
    "# 2 Literature Review\n",
    "\n",
    "Music genre classification has been a widely studied area of research since the early days of the Internet. Tzanetakis and Cook (2002) addressed this problem with supervised machine learning approaches such as Gaussian Mixture model and knearest neighbour classifiers. They introduced 3 sets of features for this task categorized as timbral structure, rhythmic content and pitch content. Hidden Markov Models (HMMs), which have been extensively used for speech recognition tasks, have also been explored for music genre classification (Scaringella and Zoia, 2005; Soltau et al., 1998). Support vector machines (SVMs) arXiv:1804.01149v1 [cs.SD] 3 Apr 2018 with different distance metrics are studied and compared in Mandel and Ellis (2005) for classifying genre.\n",
    "\n",
    "In Lidy and Rauber (2005), the authors discuss the contribution of psycho-acoustic features for recognizing music genre, especially the importance of STFT taken on the Bark Scale (Zwicker and Fastl, 1999). Mel-frequency cepstral coefficients (MFCCs), spectral contrast and spectral roll-off were some of the features used by (Tzanetakis and Cook, 2002). A combination of visual and acoustic features are used to train SVM and AdaBoost classifiers in Nanni et al. (2016).\n",
    "\n",
    "With the recent success of deep neural networks, a number of studies apply these techniques to speech and other forms of audio data (AbdelHamid et al., 2014; Gemmeke et al., 2017). Representing audio in the time domain for input to neural networks is not very straight-forward because of the high sampling rate of audio signals. However, it has been addressed in Van Den Oord et al. (2016) for audio generation tasks. A common alternative representation is the spectrogram\n",
    "of a signal which captures both time and frequency information. Spectrograms can be considered as images and used to train convolutional neural networks (CNNs) (Wyse, 2017). A CNN was developed to predict the music genre using the raw\n",
    "MFCC matrix as input in Li et al. (2010). In Lidy and Schindler (2016), a constant Q-transform (CQT) spectrogram was provided as input to the CNN to achieve the same task. This work aims to provide a comparative study between 1) the deep learning based models which only require the spectrogram as input and, 2) the traditional machine learning classifiers that need to be trained with hand-crafted features. We also investigate the relative importance of different features.\n",
    "\n",
    "# 3 Dataset\n",
    "\n",
    "In this work, we make use of Audio Set, which is a large-scale human annotated database of sounds (Gemmeke et al., 2017). The dataset was created by extracting 10-second sound clips from a total of 2.1 million YouTube videos. The audio files have been annotated on the basis of an ontology which covers 527 classes of sounds including musical instruments, speech, vehicle sounds, animal sounds and so on. \n",
    "\n",
    "This study requires only the audio files that belong to the music category, specifically having one of the seven genre tags shown in Table 1.\n",
    "\n",
    "\n"
   ]
  },
  {
   "cell_type": "markdown",
   "metadata": {},
   "source": [
    "\n",
    "import re\n",
    "import os\n",
    "from tqdm import tqdm\n",
    "import pandas as pd\n",
    "import numpy as np\n"
   ]
  },
  {
   "cell_type": "code",
   "execution_count": null,
   "metadata": {},
   "outputs": [],
   "source": [
    "\n",
    "\n"
   ]
  },
  {
   "cell_type": "markdown",
   "metadata": {},
   "source": [
    "\n",
    "WAV_DIR = 'wav_files/'\n",
    "genre_dict = {\n",
    "            '/m/064t9': 'Pop_music',\n",
    "            '/m/0glt670': 'Hip_hop_music',\n",
    "            '/m/06by7': 'Rock_music',\n",
    "            '/m/06j6l': 'Rhythm_blues',\n",
    "            '/m/06cqb': 'Reggae',\n",
    "            '/m/0y4f8': 'Vocal',\n",
    "            '/m/07gxw': 'Techno',\n",
    "            }\n",
    "\n",
    "genre_set = set(genre_dict.keys())\n"
   ]
  },
  {
   "cell_type": "code",
   "execution_count": null,
   "metadata": {},
   "outputs": [],
   "source": [
    "\n",
    "\n"
   ]
  },
  {
   "cell_type": "markdown",
   "metadata": {},
   "source": [
    "\n",
    "temp_str = []\n",
    "with open('data-files/csv_files/unbalanced_train_segments.csv', 'r') as f:\n",
    "    temp_str = f.readlines()\n"
   ]
  },
  {
   "cell_type": "code",
   "execution_count": null,
   "metadata": {},
   "outputs": [],
   "source": [
    "\n",
    "\n"
   ]
  },
  {
   "cell_type": "markdown",
   "metadata": {},
   "source": [
    "\n",
    "data = np.ones(shape=(1,4)) \n",
    "for line in tqdm(temp_str):\n",
    "    line = re.sub('\\s?\"', '', line.strip())\n",
    "    elements = line.split(',')\n",
    "    common_elements = list(genre_set.intersection(elements[3:]))\n",
    "    if  common_elements != []:\n",
    "        data = np.vstack([data, np.array(elements[:3]\n",
    "                                         + [genre_dict[common_elements[0]]]).reshape(1, 4)])\n",
    "\n",
    "df = pd.DataFrame(data[1:], columns=['url', 'start_time', 'end_time', 'class_label'])\n"
   ]
  },
  {
   "cell_type": "code",
   "execution_count": null,
   "metadata": {},
   "outputs": [],
   "source": [
    "\n",
    "\n"
   ]
  },
  {
   "cell_type": "markdown",
   "metadata": {},
   "source": [
    "\n",
    "df['class_label'].value_counts()\n"
   ]
  },
  {
   "cell_type": "code",
   "execution_count": null,
   "metadata": {},
   "outputs": [],
   "source": [
    "\n",
    "\n"
   ]
  },
  {
   "cell_type": "markdown",
   "metadata": {},
   "source": [
    "\n",
    "# Remove 10k Techno audio clips - to make the data more balanced\n",
    "np.random.seed(10)\n",
    "drop_indices = np.random.choice(df[df['class_label'] == 'Techno'].index, size=10000, replace=False)\n",
    "df.drop(labels=drop_indices, axis=0, inplace=True)\n",
    "df.reset_index(drop=True, inplace=False)\n",
    "\n",
    "# Time to INT \n",
    "df['start_time'] = df['start_time'].map(lambda x: np.int32(np.float(x)))\n",
    "df['end_time'] = df['end_time'].map(lambda x: np.int32(np.float(x)))\n"
   ]
  },
  {
   "cell_type": "code",
   "execution_count": null,
   "metadata": {},
   "outputs": [],
   "source": [
    "\n",
    "\n"
   ]
  },
  {
   "cell_type": "markdown",
   "metadata": {},
   "source": [
    "\n",
    "df['class_label'].value_counts()\n"
   ]
  },
  {
   "cell_type": "code",
   "execution_count": null,
   "metadata": {},
   "outputs": [],
   "source": [
    "\n",
    "\n",
    "The number of audio clips in each category has also been tabulated. The raw audio clips of these sounds have not been provided in the Audio Set data release. However, the data provides the YouTubeID of the corresponding videos, along with the start and end times. Hence, the first task is to retrieve these audio files. For the purpose of audio retrieval from YouTube, the following steps were carried out:\n",
    "\n",
    "Example:<br>\n",
    "Step 1:<br>\n",
    "`ffmpeg -ss 5 -i $(youtube-dl -f 140 --get-url 'https://www.youtube.com/embed/---1_cCGK4M') -t 10 -c:v copy -c:a copy test.mp4`<br>\n",
    "Starting time is 5 seconds, duration is 10s.\n",
    "\n",
    "Refer: https://github.com/rg3/youtube-dl/issues/622\n",
    "\n",
    "Step 2:<br>\n",
    "`ffmpeg -i test.mp4 -vn -acodec pcm_s16le -ar 44100 -ac 1 output.wav` <br>\n",
    "PCM-16, 44k sampling, 1-channel (Mono)\n",
    "<br>\n",
    "Refer: https://superuser.com/questions/609740/extracting-wav-from-mp4-while-preserving-the-highest-possible-quality\n",
    "\n"
   ]
  },
  {
   "cell_type": "markdown",
   "metadata": {},
   "source": [
    "\n",
    "import youtube_dl\n",
    "for i, row in tqdm(df.iterrows()):\n",
    "    url = \"'https://www.youtube.com/embed/\" + row['url'] + \"'\"\n",
    "    file_name = str(i)+\"_\"+row['class_label']\n",
    "    \n",
    "    try:\n",
    "        command_1 = \"ffmpeg -ss \" + str(row['start_time']) + \" -i $(youtube-dl -f 140 --get-url \" +\\\n",
    "                    url + \") -t 10 -c:v copy -c:a copy \" + file_name + \".mp4\"\n",
    "\n",
    "        command_2 = \"ffmpeg -i \"+ file_name +\".mp4 -vn -acodec pcm_s16le -ar 44100 -ac 1 \" + WAV_DIR + file_name + \".wav\"\n",
    "\n",
    "        command_3 = 'rm ' + file_name + '.mp4' \n",
    "\n",
    "        # Run the 3 commands\n",
    "        os.system(command_1 + ';' + command_2 + ';' + command_3 + ';')\n",
    "    \n",
    "    except:\n",
    "        print(i, url)\n",
    "        pass\n"
   ]
  },
  {
   "cell_type": "code",
   "execution_count": null,
   "metadata": {},
   "outputs": [],
   "source": [
    "\n",
    "\n",
    "Each wav file is about 880 KB in size, which means that the total data used in this study is approximately 34 GB.\n",
    "\n",
    "# 4 Methodology\n",
    "\n",
    "This section provides the details of the data preprocessing steps followed by the description of the two proposed approaches to this classification problem.\n",
    "\n",
    "## 4.1 Data Pre-processing \n",
    "\n",
    "In order to improve the Signal-to-Noise Ratio (SNR) of the signal, a pre-emphasis filter, given by Equation 1 is applied to the original audio signal.\n",
    "\n",
    "y(t) = x(t) − α ∗ x(t − 1)\n",
    "\n",
    "where, x(t) refers to the original signal, and y(t) refers to the filtered signal and α is set to 0.97. Such a pre-emphasis filter is useful to boost amplitudes at high frequencies (Kim and Stern, 2012).\n",
    "\n",
    "## 4.2 Deep Neural Networks\n",
    "\n",
    "Using deep learning, we can achieve the task of music genre classification without the need for hand-crafted features. Convolutional neural networks (CNNs) have been widely used for the task of image classification (Krizhevsky et al., 2012). The 3-channel (RGB) matrix representation of an image is fed into a CNN which is trained to predict the image class. In this study, the sound wave can be represented as a spectrogram, which in turn can be treated as an image (Nanni et al., 2016)(Lidy and Schindler, 2016). The task of the CNN is to use the spectrogram to predict the genre label (one of seven classes).\n",
    "\n",
    "### 4.2.1 Spectrogram Generation\n",
    "\n",
    "A spectrogram is a 2D representation of a signal, having time on the x-axis and frequency on the y-axis. A colormap is used to quantify the magnitude of a given frequency within a given time window. In this study, each audio signal was converted into a MEL spectrogram (having MEL frequency bins on the y-axis). The parameters used to generate the power spectrogram using STFT are listed below:\n",
    "\n",
    "- Sampling rate (sr) = 22050\n",
    "- Frame/Window size (n fft) = 2048\n",
    "- Time advance between frames (hop size) = 512 (resulting in 75% overlap)\n",
    "- Window Function: Hann Window\n",
    "- Frequency Scale: MEL\n",
    "- Number of MEL bins: 96\n",
    "- Highest Frequency (f max) = sr/2\n",
    "\n"
   ]
  },
  {
   "cell_type": "markdown",
   "metadata": {},
   "source": [
    "\n",
    "import os\n",
    "\n",
    "import matplotlib\n",
    "matplotlib.use('agg')\n",
    "\n",
    "from matplotlib import pyplot as plt\n",
    "from matplotlib import cm\n",
    "from tqdm import tqdm\n",
    "import pylab\n",
    "\n",
    "import librosa\n",
    "from librosa import display\n",
    "import numpy as np\n",
    "\n",
    "WAV_DIR = 'wav_files/'\n",
    "IMG_DIR = 'spectrogram_images/'\n",
    "wav_files = os.listdir(WAV_DIR)\n",
    "\n",
    "for f in tqdm(wav_files):\n",
    "    try:\n",
    "        # Read wav-file\n",
    "        y, sr = librosa.load(WAV_DIR+f, sr = 22050) # Use the default sampling rate of 22,050 Hz\n",
    "        \n",
    "        # Pre-emphasis filter\n",
    "        pre_emphasis = 0.97\n",
    "        y = np.append(y[0], y[1:] - pre_emphasis * y[:-1])\n",
    "        \n",
    "        # Compute spectrogram\n",
    "        M = librosa.feature.melspectrogram(y, sr, \n",
    "                                           fmax = sr/2, # Maximum frequency to be used on the on the MEL scale\n",
    "                                           n_fft=2048, \n",
    "                                           hop_length=512, \n",
    "                                           n_mels = 96, # As per the Google Large-scale audio CNN paper\n",
    "                                           power = 2) # Power = 2 refers to squared amplitude\n",
    "        \n",
    "        # Power in DB\n",
    "        log_power = librosa.power_to_db(M, ref=np.max)# Covert to dB (log) scale\n",
    "        \n",
    "        # Plotting the spectrogram and save as JPG without axes (just the image)\n",
    "        pylab.figure(figsize=(3,3))\n",
    "        pylab.axis('off') \n",
    "        pylab.axes([0., 0., 1., 1.], frameon=False, xticks=[], yticks=[]) # Remove the white edge\n",
    "        librosa.display.specshow(log_power, cmap=cm.jet)\n",
    "        pylab.savefig(IMG_DIR + f[:-4]+'.jpg', bbox_inches=None, pad_inches=0)\n",
    "        pylab.close()\n",
    "\n",
    "    except Exception as e:\n",
    "        print(f, e)\n",
    "        pass\n"
   ]
  },
  {
   "cell_type": "code",
   "execution_count": null,
   "metadata": {},
   "outputs": [],
   "source": [
    "\n",
    "\n",
    "### 4.2.2 Convolutional Neural Networks\n",
    "\n",
    "From the Figure 1, one can understand that there exists some characteristic patterns in the spectrograms of the audio signals belonging to different classes. Hence, spectrograms can be considered as ’images’ and provided as input to a CNN, which has shown good performance on image classification tasks. Each block in a CNN consists of the following operations\n",
    "\n",
    "- **Convolution**: This step involves sliding a matrix filter (say 3x3 size) over the input image which is of dimension image width x image height. The filter is first placed on the image matrix and then we compute an element-wise multiplication between the filter and the overlapping portion of the image, followed by a summation to give a feature value. We use many such filters , the values of which are ’learned’ during the training of the neural network via backpropagation.\n",
    "\n",
    "- **Pooling**: This is a way to reduce the dimension of the feature map obtained from the convolution step, formally know as the process of down sampling. For example, by max pooling with 2x2 window size, we only retain the element with the maximum value among the 4 elements of the feature map that are covered in this window. We keep moving this window across the feature map with a predefined stride.\n",
    "\n",
    "- **Non-linear Activation**: The convolution operation is linear and in order to make the neural network more powerful, we need to introduce some non-linearity. For this purpose, we can apply an activation function such as ReLU4 on each element of the feature map.\n",
    "\n",
    "In this study, a CNN architecture known as VGG-16, which was the top performing model in the ImageNet Challenge 2014 (classification + localization task) was used (Simonyan and Zisserman, 2014). The model consists of 5 convolutional blocks (conv base), followed by a set of densely connected layers, which outputs the probability that a given image belongs to each of the possible classes\n",
    "\n",
    "For the task of music genre classification using spectrograms, we download the model architecture with pre-trained weights, and extract the conv base. The output of the conv base is then send to a new feed-forward neural network which in turn predicts the genre of the music, as depicted in Figure 2.\n",
    "\n",
    "<img src=\"vgg16.PNG\" />\n",
    "\n",
    "There are two possible settings while implementing the pre-trained model: \n",
    "\n",
    "1. Transfer learning: The weights in the conv base are kept fixed but the weights in the feed-forward network (represented by the yellow box in Figure 2) are allowed to be tuned to predict the correct genre label. \n",
    "\n",
    "2. Fine tuning: In this setting, we start with the pre-trained weights of VGG-16, but allow all the model weights to be tuned during training process.\n",
    "\n",
    "The final layer of the neural network outputs the class probabilities (using the softmax activation function) for each of the seven possible class labels. Next, the cross-entropy loss is computed as follows: \n",
    "\n",
    "L = − X M c=1 yo,c ∗ log po,c (2) \n",
    "\n",
    "where, M is the number of classes; yo,c is a binary indicator whose value is 1 if observation o belongs to class c and 0 otherwise; po,c is the model’s predicted probability that observation o belongs to class c. This loss is used to backpropagate the error, compute the gradients and thereby update the weights of the network. This iterative process continues until the loss converges to a minimum value.\n",
    "\n",
    "### 4.2.3 Implementation Details\n",
    "\n",
    "The spectrogram images have a dimension of 216 x 216. For the feed-forward network connected to the conv base, a 512-unit hidden layer is implemented. Over-fitting is a common issue in neural networks. In order to prevent this, two strategies are adopted:\n",
    "\n",
    "1. L2-Regularization (Ng, 2004): The loss function of the neural network is added with the term 1 2 λ P i wi 2 , where w refers to the weights in the neural networks. This method is used to penalize excessively high weights. We would like the weights to be diffused across all model parameters, and not just among a few parameters. Also, intuitively, smaller weights would correspond to a less complex model, thereby avoiding overfitting. λ is set to a value of 0.001 in this study. \n",
    "\n",
    "2. Dropout (Srivastava et al., 2014): This is a regularization mechanism in which we shutoff some of the neurons (set their weights to zero) randomly during training. In each iteration, we thereby use a different combination of neurons to predict the final output. This makes the model generalize without any heavy dependence on a subset of the neurons. A dropout rate of 0.3 is used, which means that a given weight is set to zero during an iteration, with a probability of 0.3.\n",
    "\n",
    "The dataset is randomly split into train (90%), validation (5%) and test (5%) sets. The same split is used for all experiments to ensure a fair comparison of the proposed models.\n",
    "\n",
    "The neural networks are implemented in Python using Tensorflow 5 ; an NVIDIA Titan X GPU was utilized for faster processing. All models were trained for 10 epochs with a batch size of 32 with the ADAM optimizer (Kingma and Ba, 2014). One epoch refers to one iteration over the entire training dataset.\n",
    "\n",
    "Figure 3 shows the learning curves - the loss (which is being optimized) keeps decreasing as the training progresses. Although the training accuracy keeps increasing, the validation accuracy first increases and after a certain number of epochs, it starts to decrease. This shows the model’s tendency to overfit on the training data. The model that is selected for evaluation purposes is the one that has the highest accuracy and lowest loss on the validation set (epoch 4 in Figure 3).\n",
    "\n",
    "### 4.2.4 Baseline Feed-forward Neural Network\n",
    "\n",
    "To assess the performance improvement that can be achived by the CNNs, we also train a baseline feed-forward neural network that takes as input the same spectrogram image. The image which is a 2-dimensional vector of pixel values is unwrapped or flattened into a 1-dimensional vector. Using this vector, a simple 2-layer neural network is trained to predict the genre of the audio signal. The first hidden layer consists of 512 units and the second layer has 32 units, followed by the output layer. The activation function used is ReLU and the same regularization techniques described in Section 4.2.3 are adopted.\n",
    "\n"
   ]
  },
  {
   "cell_type": "markdown",
   "metadata": {},
   "source": [
    "\n",
    "import os\n",
    "\n",
    "os.environ[\"CUDA_DEVICE_ORDER\"]=\"PCI_BUS_ID\"\n",
    "os.environ[\"CUDA_VISIBLE_DEVICES\"]=\"1\"\n",
    "\n",
    "import tensorflow as tf\n",
    "\n",
    "config = tf.ConfigProto()\n",
    "config.gpu_options.allow_growth=True\n",
    "\n",
    "sess = tf.Session(config=config)\n",
    "\n",
    "import numpy as np\n",
    "import pandas as pd\n",
    "import pickle\n",
    "from matplotlib import pyplot as plt\n",
    "from PIL import Image\n",
    "from IPython.display import Audio\n",
    "from matplotlib.pyplot import imshow\n",
    "from sklearn.model_selection import train_test_split\n",
    "from sklearn.preprocessing import OneHotEncoder\n",
    "from sklearn.utils.class_weight import compute_class_weight\n",
    "\n",
    "from tensorflow.contrib.keras import layers\n",
    "from tensorflow.contrib.keras import models\n",
    "from tensorflow.contrib.keras import layers\n",
    "from tensorflow.contrib.keras import optimizers\n",
    "from tensorflow.contrib.keras import callbacks\n",
    "from tensorflow.contrib.keras import regularizers\n",
    "from tensorflow.contrib.keras import models\n",
    "\n",
    "%matplotlib inline\n"
   ]
  },
  {
   "cell_type": "code",
   "execution_count": null,
   "metadata": {},
   "outputs": [],
   "source": [
    "\n",
    "\n"
   ]
  },
  {
   "cell_type": "markdown",
   "metadata": {},
   "source": [
    "\n",
    "IMG_DIR = 'spectrogram_images/'\n",
    "IMG_HEIGHT = 216\n",
    "IMG_WIDTH = 216\n",
    "NUM_CLASSES = 7\n",
    "NUM_EPOCHS = 10\n",
    "BATCH_SIZE = 32\n",
    "L2_LAMBDA = 0.001\n"
   ]
  },
  {
   "cell_type": "code",
   "execution_count": null,
   "metadata": {},
   "outputs": [],
   "source": [
    "\n",
    "\n"
   ]
  },
  {
   "cell_type": "markdown",
   "metadata": {},
   "source": [
    "\n",
    "label_dict = {'Hip':0,\n",
    "              'Pop':1,\n",
    "              'Vocal':2,\n",
    "              'Rhythm':3,\n",
    "              'Reggae':4,\n",
    "              'Rock':5,\n",
    "              'Techno':6,\n",
    "             }\n",
    "one_hot = OneHotEncoder(n_values=NUM_CLASSES)\n",
    "\n",
    "all_files = os.listdir(IMG_DIR)\n",
    "\n",
    "# Get class weights\n",
    "label_array = []\n",
    "for file_ in all_files:\n",
    "    vals = file_[:-4].split('_')\n",
    "    label_array.append(label_dict[vals[1]])\n",
    "    \n",
    "cl_weight = compute_class_weight(class_weight = 'balanced', \n",
    "                                 classes = np.unique(label_array), \n",
    "                                 y = label_array)\n",
    "\n",
    "# Train-val-test split of files\n",
    "train_files, test_files, train_labels, test_labels = train_test_split(all_files, \n",
    "                                                                      label_array,\n",
    "                                                                      random_state = 10, \n",
    "                                                                      test_size = 0.1\n",
    "                                                                     )\n",
    "\n",
    "# Among the test files, keep half for validation\n",
    "val_files, test_files, val_labels, test_labels = train_test_split(test_files, test_labels,\n",
    "                                                                  random_state = 10, \n",
    "                                                                  test_size = 0.5\n",
    "                                                                 )\n"
   ]
  },
  {
   "cell_type": "code",
   "execution_count": null,
   "metadata": {},
   "outputs": [],
   "source": [
    "\n",
    "\n"
   ]
  },
  {
   "cell_type": "markdown",
   "metadata": {},
   "source": [
    "\n",
    "conv_base = tf.contrib.keras.applications.VGG16(include_top = False, \n",
    "                                            weights = 'imagenet', \n",
    "                                            input_shape = (IMG_WIDTH, IMG_HEIGHT, 3) # 3 channels - RGB\n",
    "                                           ) \n",
    "# The weights are for the CONV filters - hence you can pass any pre-set image size to this VGG network\n",
    "# Need not be 224 x 224 x 3 (Although does it work better for 224 size? Need to check)\n"
   ]
  },
  {
   "cell_type": "code",
   "execution_count": null,
   "metadata": {},
   "outputs": [],
   "source": [
    "\n",
    "\n"
   ]
  },
  {
   "cell_type": "markdown",
   "metadata": {},
   "source": [
    "\n",
    "conv_base.summary()\n"
   ]
  },
  {
   "cell_type": "code",
   "execution_count": null,
   "metadata": {},
   "outputs": [],
   "source": [
    "\n",
    "\n"
   ]
  },
  {
   "cell_type": "markdown",
   "metadata": {},
   "source": [
    "\n",
    "model = models.Sequential()\n",
    "model.add(conv_base)\n",
    "model.add(layers.Flatten()) # Flatten output and send it to MLP\n",
    "\n",
    "# 1-layer MLP with Dropout, BN \n",
    "model.add(layers.Dense(512, name='dense_1', kernel_regularizer=regularizers.l2(L2_LAMBDA)))\n",
    "model.add(layers.Dropout(rate=0.3, name='dropout_1')) # Can try varying dropout rates\n",
    "model.add(layers.Activation(activation='relu', name='activation_1'))\n",
    "\n",
    "model.add(layers.Dense(NUM_CLASSES, activation='softmax', name='dense_output'))\n",
    "model.summary()\n"
   ]
  },
  {
   "cell_type": "code",
   "execution_count": null,
   "metadata": {},
   "outputs": [],
   "source": [
    "\n",
    "\n"
   ]
  },
  {
   "cell_type": "markdown",
   "metadata": {},
   "source": [
    "\n",
    "# Set the convolution base to be not trainable\n",
    "conv_base.trainable = False\n",
    "model.summary()\n"
   ]
  },
  {
   "cell_type": "code",
   "execution_count": null,
   "metadata": {},
   "outputs": [],
   "source": [
    "\n",
    "\n"
   ]
  },
  {
   "cell_type": "markdown",
   "metadata": {},
   "source": [
    "\n",
    "def load_batch(file_list):\n",
    "    img_array = []\n",
    "    idx_array = []\n",
    "    label_array = []\n",
    "\n",
    "    for file_ in file_list:\n",
    "        im = Image.open(IMG_DIR + file_)\n",
    "        im = im.resize((IMG_WIDTH, IMG_HEIGHT), Image.ANTIALIAS)\n",
    "        img_array.append(np.array(im))\n",
    "\n",
    "        vals = file_[:-4].split('_')\n",
    "        idx_array.append(vals[0])\n",
    "        label_array.append([label_dict[vals[1]]])\n",
    "\n",
    "    label_array = one_hot.fit_transform(label_array).toarray()\n",
    "    img_array = np.array(img_array)/255.0 # Normalize RGB\n",
    "    \n",
    "    return img_array, np.array(label_array), np.array(idx_array)\n",
    "\n",
    "def batch_generator(files, BATCH_SIZE):\n",
    "    L = len(files)\n",
    "\n",
    "    #this line is just to make the generator infinite, keras needs that    \n",
    "    while True:\n",
    "\n",
    "        batch_start = 0\n",
    "        batch_end = BATCH_SIZE\n",
    "\n",
    "        while batch_start < L:\n",
    "            \n",
    "            limit = min(batch_end, L)\n",
    "            file_list = files[batch_start: limit]\n",
    "            batch_img_array, batch_label_array, batch_idx_array = load_batch(file_list)\n",
    "\n",
    "            yield (batch_img_array, batch_label_array) # a tuple with two numpy arrays with batch_size samples     \n",
    "\n",
    "            batch_start += BATCH_SIZE   \n",
    "            batch_end += BATCH_SIZE\n"
   ]
  },
  {
   "cell_type": "code",
   "execution_count": null,
   "metadata": {},
   "outputs": [],
   "source": [
    "\n",
    "\n"
   ]
  },
  {
   "cell_type": "markdown",
   "metadata": {},
   "source": [
    "\n",
    "# Set optimizer, loss and metrics\n",
    "optimizer = optimizers.Adam(lr=1e-5)\n",
    "\n",
    "loss = 'categorical_crossentropy'\n",
    "\n",
    "metrics = ['categorical_accuracy']\n",
    "\n",
    "filepath=\"saved_models/transfer_learning_epoch_{epoch:02d}_{val_categorical_accuracy:.4f}.h5\"\n",
    "checkpoint = callbacks.ModelCheckpoint(filepath, \n",
    "                                       monitor='val_categorical_accuracy', \n",
    "                                       verbose=0, \n",
    "                                       save_best_only=False)\n",
    "callbacks_list = [checkpoint]\n",
    "\n",
    "model.compile(optimizer=optimizer, loss=loss, metrics=metrics)\n",
    "\n",
    "STEPS_PER_EPOCH = len(train_files)//BATCH_SIZE\n",
    "VAL_STEPS = len(val_files)//BATCH_SIZE\n",
    "\n",
    "history = model.fit_generator(generator  = batch_generator(train_files, BATCH_SIZE),\n",
    "                              epochs     = NUM_EPOCHS,\n",
    "                              steps_per_epoch = STEPS_PER_EPOCH,\n",
    "                              class_weight = cl_weight, # Check if providing class weight is useful\n",
    "                              validation_data = batch_generator(val_files, BATCH_SIZE), \n",
    "                              validation_steps = VAL_STEPS, \n",
    "                              callbacks = callbacks_list,\n",
    "                             )\n"
   ]
  },
  {
   "cell_type": "code",
   "execution_count": null,
   "metadata": {},
   "outputs": [],
   "source": [
    "\n",
    "\n"
   ]
  },
  {
   "cell_type": "markdown",
   "metadata": {},
   "source": [
    "\n",
    "# Save scores on train and validation sets\n",
    "with open('pickle_files/transfer_learning_vgg16_history.pkl', 'wb') as f:\n",
    "    pickle.dump(history.history, f)\n"
   ]
  },
  {
   "cell_type": "code",
   "execution_count": null,
   "metadata": {},
   "outputs": [],
   "source": [
    "\n"
   ]
  }
 ],
 "metadata": {
  "kernelspec": {
   "display_name": "Python 3",
   "language": "python",
   "name": "python3"
  },
  "language_info": {
   "codemirror_mode": {
    "name": "ipython",
    "version": 3
   },
   "file_extension": ".py",
   "mimetype": "text/x-python",
   "name": "python",
   "nbconvert_exporter": "python",
   "pygments_lexer": "ipython3",
   "version": "3.7.1"
  }
 },
 "nbformat": 4,
 "nbformat_minor": 2
}
